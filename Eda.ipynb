{
 "cells": [
  {
   "cell_type": "code",
   "execution_count": 79,
   "metadata": {},
   "outputs": [],
   "source": [
    "import pandas as pd\n",
    "import numpy as np\n",
    "import matplotlib.pyplot as plt\n",
    "import seaborn as sns\n",
    "\n",
    "import plotly.express as px\n",
    "import plotly.figure_factory as ff\n",
    "import plotly.graph_objects as go\n",
    "import plotly.io as pio\n",
    "\n",
    "import numpy as np\n",
    "from sklearn.cluster import KMeans"
   ]
  },
  {
   "cell_type": "code",
   "execution_count": 80,
   "metadata": {},
   "outputs": [],
   "source": [
    "## Read data\n",
    "df = pd.read_excel('Data/25.xlsx')\n"
   ]
  },
  {
   "cell_type": "code",
   "execution_count": 81,
   "metadata": {},
   "outputs": [],
   "source": [
    "int_features = [f for f in df.columns if df[f].dtype == 'int64']\n",
    "for col in int_features:\n",
    "    df[col] = df[col].astype('float64')\n",
    "\n",
    "float_features = [f for f in df.columns if df[f].dtype == 'float64']\n",
    "for col in float_features:\n",
    "    df[col] = df[col] / df[\"total\"]"
   ]
  },
  {
   "cell_type": "code",
   "execution_count": 82,
   "metadata": {},
   "outputs": [],
   "source": [
    "km=KMeans(n_clusters=6)\n",
    "predicted=km.fit(df.iloc[:,1:-2])\n",
    "df[\"cluster\"]=predicted.labels_"
   ]
  },
  {
   "cell_type": "code",
   "execution_count": 83,
   "metadata": {},
   "outputs": [],
   "source": [
    "cords= pd.read_excel(\"Data/lat_lng.xlsx\")"
   ]
  },
  {
   "cell_type": "code",
   "execution_count": 84,
   "metadata": {},
   "outputs": [],
   "source": [
    "df = pd.merge(df,cords, on=\"rashut\", how=\"left\")"
   ]
  },
  {
   "cell_type": "code",
   "execution_count": 85,
   "metadata": {},
   "outputs": [
    {
     "data": {
      "application/vnd.plotly.v1+json": {
       "config": {
        "plotlyServerURL": "https://plotly.com"
       },
       "data": [
        {
         "hovertemplate": "<b>%{hovertext}</b><br><br>megurim_lat=%{lat}<br>megurim_lng=%{lon}<br>cluster=%{marker.color}<extra></extra>",
         "hovertext": [
          "אבו סנאן",
          "אופקים",
          "אור יהודה",
          "אור עקיבא",
          "אילת",
          "אלקנה",
          "אפרת",
          "אריאל",
          "אשדוד",
          "אשקלון",
          "באר יעקב",
          "באר שבע",
          "בית אל",
          "בית ג'ן",
          "בית שאן",
          "בית שמש",
          "בני ברק",
          "בת ים",
          "ג'וליס",
          "גבעת שמואל",
          "גדרה",
          "גן יבנה",
          "דאלית אל כרמל",
          "דימונה",
          "הוד השרון",
          "הרצליה",
          "זיכרון יעקב",
          "חדרה",
          "חולון",
          "חיפה",
          "חצור הגלילית",
          "חריש",
          "טבריה",
          "טירת הכרמל",
          "טמרה",
          "יבנה",
          "יבניאל",
          "יהוד מונוסון",
          "יפיע",
          "יקנעם",
          "ירוחם",
          "ירושלים",
          "ירכא",
          "כסרא-סמיע",
          "כפר סבא",
          "כרמיאל",
          "לוד",
          "שתולים",
          "אםעזר",
          "יד רמב\"ם",
          "פרזון",
          "חדיד",
          "תנובות",
          "נווה צוץ",
          "נריה",
          "שילה",
          "שער בנימין",
          "בר יוחאי",
          "ביטחה",
          "זיתן",
          "מעגלים",
          "מ.א שפיר",
          "מגאר",
          "מגדל העמק",
          "מודיעין-מכבים-רעות",
          "מעלה אדומים",
          "מעלות תרשיחא",
          "מצפה רמון",
          "נהריה",
          "נוף הגליל",
          "נס ציונה",
          "נצרת",
          "נשר",
          "נתיבות",
          "נתניה",
          "נתניה איצטדיון",
          "עכו",
          "עמק חפר - אלישיב",
          "עפולה",
          "ערד",
          "פרדס חנה-כרכור",
          "פתח תקווה",
          "צפת",
          "קדומים",
          "קדימה-צורן",
          "קצרין",
          "קריית אונו",
          "קריית ארבע",
          "קריית אתא",
          "קריית ביאליק",
          "קריית גת",
          "קריית ים",
          "קריית מוצקין",
          "קריית מלאכי",
          "קריית עקרון",
          "קריית שמונה",
          "קרני שומרון",
          "ראמה",
          "ראש העין",
          "ראשון לציון",
          "רחובות",
          "רמלה",
          "רמת גן",
          "רמת השרון",
          "רעננה",
          "שדרות",
          "שוהם",
          "שפרעם",
          "תל אביב- אקספו",
          "תל אביב - היכל מנורה",
          "תל מונד"
         ],
         "lat": [
          32.95803,
          31.311337,
          32.029748,
          32.509965,
          29.557669,
          32.110566,
          31.653589,
          32.104637,
          31.804381,
          31.6687885,
          31.943507,
          31.252973,
          31.94159999999999,
          32.965655,
          32.497103,
          31.747041,
          32.084932,
          32.013186,
          null,
          32.077299,
          31.8123014,
          31.783056,
          null,
          31.069419,
          32.149961,
          null,
          null,
          32.4340458,
          32.015833,
          32.7940463,
          32.980382,
          32.4618771,
          32.795859,
          null,
          32.852247,
          31.877958,
          null,
          null,
          32.695002,
          null,
          30.987804,
          31.768319,
          32.953492,
          32.97232,
          32.178195,
          32.914671,
          31.951014,
          null,
          null,
          null,
          null,
          null,
          null,
          null,
          null,
          null,
          null,
          null,
          null,
          null,
          null,
          null,
          32.890704,
          32.6778114,
          31.890267,
          31.777369,
          null,
          30.610203,
          null,
          32.711539,
          31.932111,
          32.699635,
          32.7649,
          31.423196,
          32.321458,
          null,
          32.933052,
          null,
          32.610493,
          31.261447,
          32.4728028,
          32.084041,
          32.964648,
          32.21239,
          32.277644,
          32.990998,
          32.054863,
          31.529326,
          32.809144,
          32.832154,
          31.611148,
          32.849276,
          32.838202,
          31.730202,
          31.862547,
          33.207933,
          32.171553,
          32.937112,
          32.095838,
          31.9730015,
          31.892773,
          31.931566,
          32.068424,
          32.137793,
          32.184781,
          31.52269399999999,
          31.9957581,
          32.80576500000001,
          null,
          null,
          32.256608
         ],
         "legendgroup": "",
         "lon": [
          35.171969,
          34.622824,
          34.85617300000001,
          34.920394,
          34.951925,
          35.032054,
          35.149934,
          35.17451399999999,
          34.655314,
          34.5742523,
          34.83904,
          34.791462,
          35.222734,
          35.381268,
          35.497336,
          34.988099,
          34.835226,
          34.748019,
          null,
          34.849206,
          34.77701920000001,
          34.703101,
          null,
          35.033363,
          34.8838788,
          null,
          null,
          34.9196518,
          34.787384,
          34.989571,
          35.543548,
          35.0455828,
          35.530973,
          null,
          35.201315,
          34.739449,
          null,
          null,
          35.28201,
          null,
          34.929741,
          35.21371,
          35.21199,
          35.298528,
          34.90761,
          35.292417,
          34.888075,
          null,
          null,
          null,
          null,
          null,
          null,
          null,
          null,
          null,
          null,
          null,
          null,
          null,
          null,
          null,
          35.40461,
          35.2417497,
          35.010397,
          35.297955,
          null,
          34.801898,
          null,
          35.324812,
          34.801327,
          35.303546,
          35.049191,
          34.595254,
          34.853196,
          null,
          35.082678,
          null,
          35.287922,
          35.214862,
          34.9742001,
          34.887762,
          35.495997,
          35.157388,
          34.919297,
          35.689865,
          34.85885800000001,
          35.115625,
          35.119773,
          35.088407,
          34.768459,
          35.068929,
          35.079523,
          34.746996,
          34.8219576,
          35.570246,
          35.097462,
          35.366984,
          34.952177,
          34.7925013,
          34.811272,
          34.872938,
          34.824785,
          34.840278,
          34.871326,
          34.595581,
          34.9488403,
          35.169971,
          null,
          null,
          34.91846
         ],
         "marker": {
          "color": [
           1,
           0,
           4,
           4,
           4,
           4,
           2,
           2,
           5,
           0,
           4,
           4,
           2,
           1,
           4,
           5,
           4,
           4,
           1,
           4,
           4,
           4,
           1,
           0,
           4,
           5,
           4,
           4,
           4,
           4,
           4,
           4,
           4,
           4,
           1,
           4,
           5,
           5,
           3,
           4,
           0,
           4,
           1,
           5,
           4,
           1,
           5,
           4,
           2,
           5,
           1,
           0,
           4,
           2,
           2,
           2,
           2,
           4,
           0,
           5,
           0,
           4,
           1,
           4,
           4,
           4,
           4,
           0,
           4,
           5,
           4,
           5,
           4,
           0,
           4,
           4,
           4,
           4,
           4,
           0,
           4,
           4,
           5,
           2,
           4,
           4,
           4,
           2,
           4,
           4,
           0,
           4,
           4,
           4,
           4,
           4,
           2,
           1,
           4,
           4,
           4,
           4,
           4,
           4,
           4,
           0,
           5,
           1,
           4,
           4,
           4
          ],
          "coloraxis": "coloraxis"
         },
         "mode": "markers",
         "name": "",
         "showlegend": false,
         "subplot": "mapbox",
         "type": "scattermapbox"
        }
       ],
       "layout": {
        "coloraxis": {
         "colorbar": {
          "title": {
           "text": "cluster"
          }
         },
         "colorscale": [
          [
           0,
           "#0d0887"
          ],
          [
           0.1111111111111111,
           "#46039f"
          ],
          [
           0.2222222222222222,
           "#7201a8"
          ],
          [
           0.3333333333333333,
           "#9c179e"
          ],
          [
           0.4444444444444444,
           "#bd3786"
          ],
          [
           0.5555555555555556,
           "#d8576b"
          ],
          [
           0.6666666666666666,
           "#ed7953"
          ],
          [
           0.7777777777777778,
           "#fb9f3a"
          ],
          [
           0.8888888888888888,
           "#fdca26"
          ],
          [
           1,
           "#f0f921"
          ]
         ]
        },
        "legend": {
         "tracegroupgap": 0
        },
        "mapbox": {
         "center": {
          "lat": 32.17664609634147,
          "lon": 35.02604776707316
         },
         "domain": {
          "x": [
           0,
           1
          ],
          "y": [
           0,
           1
          ]
         },
         "style": "carto-positron",
         "zoom": 8
        },
        "margin": {
         "b": 0,
         "l": 0,
         "r": 0,
         "t": 0
        },
        "template": {
         "data": {
          "bar": [
           {
            "error_x": {
             "color": "#2a3f5f"
            },
            "error_y": {
             "color": "#2a3f5f"
            },
            "marker": {
             "line": {
              "color": "#E5ECF6",
              "width": 0.5
             },
             "pattern": {
              "fillmode": "overlay",
              "size": 10,
              "solidity": 0.2
             }
            },
            "type": "bar"
           }
          ],
          "barpolar": [
           {
            "marker": {
             "line": {
              "color": "#E5ECF6",
              "width": 0.5
             },
             "pattern": {
              "fillmode": "overlay",
              "size": 10,
              "solidity": 0.2
             }
            },
            "type": "barpolar"
           }
          ],
          "carpet": [
           {
            "aaxis": {
             "endlinecolor": "#2a3f5f",
             "gridcolor": "white",
             "linecolor": "white",
             "minorgridcolor": "white",
             "startlinecolor": "#2a3f5f"
            },
            "baxis": {
             "endlinecolor": "#2a3f5f",
             "gridcolor": "white",
             "linecolor": "white",
             "minorgridcolor": "white",
             "startlinecolor": "#2a3f5f"
            },
            "type": "carpet"
           }
          ],
          "choropleth": [
           {
            "colorbar": {
             "outlinewidth": 0,
             "ticks": ""
            },
            "type": "choropleth"
           }
          ],
          "contour": [
           {
            "colorbar": {
             "outlinewidth": 0,
             "ticks": ""
            },
            "colorscale": [
             [
              0,
              "#0d0887"
             ],
             [
              0.1111111111111111,
              "#46039f"
             ],
             [
              0.2222222222222222,
              "#7201a8"
             ],
             [
              0.3333333333333333,
              "#9c179e"
             ],
             [
              0.4444444444444444,
              "#bd3786"
             ],
             [
              0.5555555555555556,
              "#d8576b"
             ],
             [
              0.6666666666666666,
              "#ed7953"
             ],
             [
              0.7777777777777778,
              "#fb9f3a"
             ],
             [
              0.8888888888888888,
              "#fdca26"
             ],
             [
              1,
              "#f0f921"
             ]
            ],
            "type": "contour"
           }
          ],
          "contourcarpet": [
           {
            "colorbar": {
             "outlinewidth": 0,
             "ticks": ""
            },
            "type": "contourcarpet"
           }
          ],
          "heatmap": [
           {
            "colorbar": {
             "outlinewidth": 0,
             "ticks": ""
            },
            "colorscale": [
             [
              0,
              "#0d0887"
             ],
             [
              0.1111111111111111,
              "#46039f"
             ],
             [
              0.2222222222222222,
              "#7201a8"
             ],
             [
              0.3333333333333333,
              "#9c179e"
             ],
             [
              0.4444444444444444,
              "#bd3786"
             ],
             [
              0.5555555555555556,
              "#d8576b"
             ],
             [
              0.6666666666666666,
              "#ed7953"
             ],
             [
              0.7777777777777778,
              "#fb9f3a"
             ],
             [
              0.8888888888888888,
              "#fdca26"
             ],
             [
              1,
              "#f0f921"
             ]
            ],
            "type": "heatmap"
           }
          ],
          "heatmapgl": [
           {
            "colorbar": {
             "outlinewidth": 0,
             "ticks": ""
            },
            "colorscale": [
             [
              0,
              "#0d0887"
             ],
             [
              0.1111111111111111,
              "#46039f"
             ],
             [
              0.2222222222222222,
              "#7201a8"
             ],
             [
              0.3333333333333333,
              "#9c179e"
             ],
             [
              0.4444444444444444,
              "#bd3786"
             ],
             [
              0.5555555555555556,
              "#d8576b"
             ],
             [
              0.6666666666666666,
              "#ed7953"
             ],
             [
              0.7777777777777778,
              "#fb9f3a"
             ],
             [
              0.8888888888888888,
              "#fdca26"
             ],
             [
              1,
              "#f0f921"
             ]
            ],
            "type": "heatmapgl"
           }
          ],
          "histogram": [
           {
            "marker": {
             "pattern": {
              "fillmode": "overlay",
              "size": 10,
              "solidity": 0.2
             }
            },
            "type": "histogram"
           }
          ],
          "histogram2d": [
           {
            "colorbar": {
             "outlinewidth": 0,
             "ticks": ""
            },
            "colorscale": [
             [
              0,
              "#0d0887"
             ],
             [
              0.1111111111111111,
              "#46039f"
             ],
             [
              0.2222222222222222,
              "#7201a8"
             ],
             [
              0.3333333333333333,
              "#9c179e"
             ],
             [
              0.4444444444444444,
              "#bd3786"
             ],
             [
              0.5555555555555556,
              "#d8576b"
             ],
             [
              0.6666666666666666,
              "#ed7953"
             ],
             [
              0.7777777777777778,
              "#fb9f3a"
             ],
             [
              0.8888888888888888,
              "#fdca26"
             ],
             [
              1,
              "#f0f921"
             ]
            ],
            "type": "histogram2d"
           }
          ],
          "histogram2dcontour": [
           {
            "colorbar": {
             "outlinewidth": 0,
             "ticks": ""
            },
            "colorscale": [
             [
              0,
              "#0d0887"
             ],
             [
              0.1111111111111111,
              "#46039f"
             ],
             [
              0.2222222222222222,
              "#7201a8"
             ],
             [
              0.3333333333333333,
              "#9c179e"
             ],
             [
              0.4444444444444444,
              "#bd3786"
             ],
             [
              0.5555555555555556,
              "#d8576b"
             ],
             [
              0.6666666666666666,
              "#ed7953"
             ],
             [
              0.7777777777777778,
              "#fb9f3a"
             ],
             [
              0.8888888888888888,
              "#fdca26"
             ],
             [
              1,
              "#f0f921"
             ]
            ],
            "type": "histogram2dcontour"
           }
          ],
          "mesh3d": [
           {
            "colorbar": {
             "outlinewidth": 0,
             "ticks": ""
            },
            "type": "mesh3d"
           }
          ],
          "parcoords": [
           {
            "line": {
             "colorbar": {
              "outlinewidth": 0,
              "ticks": ""
             }
            },
            "type": "parcoords"
           }
          ],
          "pie": [
           {
            "automargin": true,
            "type": "pie"
           }
          ],
          "scatter": [
           {
            "fillpattern": {
             "fillmode": "overlay",
             "size": 10,
             "solidity": 0.2
            },
            "type": "scatter"
           }
          ],
          "scatter3d": [
           {
            "line": {
             "colorbar": {
              "outlinewidth": 0,
              "ticks": ""
             }
            },
            "marker": {
             "colorbar": {
              "outlinewidth": 0,
              "ticks": ""
             }
            },
            "type": "scatter3d"
           }
          ],
          "scattercarpet": [
           {
            "marker": {
             "colorbar": {
              "outlinewidth": 0,
              "ticks": ""
             }
            },
            "type": "scattercarpet"
           }
          ],
          "scattergeo": [
           {
            "marker": {
             "colorbar": {
              "outlinewidth": 0,
              "ticks": ""
             }
            },
            "type": "scattergeo"
           }
          ],
          "scattergl": [
           {
            "marker": {
             "colorbar": {
              "outlinewidth": 0,
              "ticks": ""
             }
            },
            "type": "scattergl"
           }
          ],
          "scattermapbox": [
           {
            "marker": {
             "colorbar": {
              "outlinewidth": 0,
              "ticks": ""
             }
            },
            "type": "scattermapbox"
           }
          ],
          "scatterpolar": [
           {
            "marker": {
             "colorbar": {
              "outlinewidth": 0,
              "ticks": ""
             }
            },
            "type": "scatterpolar"
           }
          ],
          "scatterpolargl": [
           {
            "marker": {
             "colorbar": {
              "outlinewidth": 0,
              "ticks": ""
             }
            },
            "type": "scatterpolargl"
           }
          ],
          "scatterternary": [
           {
            "marker": {
             "colorbar": {
              "outlinewidth": 0,
              "ticks": ""
             }
            },
            "type": "scatterternary"
           }
          ],
          "surface": [
           {
            "colorbar": {
             "outlinewidth": 0,
             "ticks": ""
            },
            "colorscale": [
             [
              0,
              "#0d0887"
             ],
             [
              0.1111111111111111,
              "#46039f"
             ],
             [
              0.2222222222222222,
              "#7201a8"
             ],
             [
              0.3333333333333333,
              "#9c179e"
             ],
             [
              0.4444444444444444,
              "#bd3786"
             ],
             [
              0.5555555555555556,
              "#d8576b"
             ],
             [
              0.6666666666666666,
              "#ed7953"
             ],
             [
              0.7777777777777778,
              "#fb9f3a"
             ],
             [
              0.8888888888888888,
              "#fdca26"
             ],
             [
              1,
              "#f0f921"
             ]
            ],
            "type": "surface"
           }
          ],
          "table": [
           {
            "cells": {
             "fill": {
              "color": "#EBF0F8"
             },
             "line": {
              "color": "white"
             }
            },
            "header": {
             "fill": {
              "color": "#C8D4E3"
             },
             "line": {
              "color": "white"
             }
            },
            "type": "table"
           }
          ]
         },
         "layout": {
          "annotationdefaults": {
           "arrowcolor": "#2a3f5f",
           "arrowhead": 0,
           "arrowwidth": 1
          },
          "autotypenumbers": "strict",
          "coloraxis": {
           "colorbar": {
            "outlinewidth": 0,
            "ticks": ""
           }
          },
          "colorscale": {
           "diverging": [
            [
             0,
             "#8e0152"
            ],
            [
             0.1,
             "#c51b7d"
            ],
            [
             0.2,
             "#de77ae"
            ],
            [
             0.3,
             "#f1b6da"
            ],
            [
             0.4,
             "#fde0ef"
            ],
            [
             0.5,
             "#f7f7f7"
            ],
            [
             0.6,
             "#e6f5d0"
            ],
            [
             0.7,
             "#b8e186"
            ],
            [
             0.8,
             "#7fbc41"
            ],
            [
             0.9,
             "#4d9221"
            ],
            [
             1,
             "#276419"
            ]
           ],
           "sequential": [
            [
             0,
             "#0d0887"
            ],
            [
             0.1111111111111111,
             "#46039f"
            ],
            [
             0.2222222222222222,
             "#7201a8"
            ],
            [
             0.3333333333333333,
             "#9c179e"
            ],
            [
             0.4444444444444444,
             "#bd3786"
            ],
            [
             0.5555555555555556,
             "#d8576b"
            ],
            [
             0.6666666666666666,
             "#ed7953"
            ],
            [
             0.7777777777777778,
             "#fb9f3a"
            ],
            [
             0.8888888888888888,
             "#fdca26"
            ],
            [
             1,
             "#f0f921"
            ]
           ],
           "sequentialminus": [
            [
             0,
             "#0d0887"
            ],
            [
             0.1111111111111111,
             "#46039f"
            ],
            [
             0.2222222222222222,
             "#7201a8"
            ],
            [
             0.3333333333333333,
             "#9c179e"
            ],
            [
             0.4444444444444444,
             "#bd3786"
            ],
            [
             0.5555555555555556,
             "#d8576b"
            ],
            [
             0.6666666666666666,
             "#ed7953"
            ],
            [
             0.7777777777777778,
             "#fb9f3a"
            ],
            [
             0.8888888888888888,
             "#fdca26"
            ],
            [
             1,
             "#f0f921"
            ]
           ]
          },
          "colorway": [
           "#636efa",
           "#EF553B",
           "#00cc96",
           "#ab63fa",
           "#FFA15A",
           "#19d3f3",
           "#FF6692",
           "#B6E880",
           "#FF97FF",
           "#FECB52"
          ],
          "font": {
           "color": "#2a3f5f"
          },
          "geo": {
           "bgcolor": "white",
           "lakecolor": "white",
           "landcolor": "#E5ECF6",
           "showlakes": true,
           "showland": true,
           "subunitcolor": "white"
          },
          "hoverlabel": {
           "align": "left"
          },
          "hovermode": "closest",
          "mapbox": {
           "style": "light"
          },
          "paper_bgcolor": "white",
          "plot_bgcolor": "#E5ECF6",
          "polar": {
           "angularaxis": {
            "gridcolor": "white",
            "linecolor": "white",
            "ticks": ""
           },
           "bgcolor": "#E5ECF6",
           "radialaxis": {
            "gridcolor": "white",
            "linecolor": "white",
            "ticks": ""
           }
          },
          "scene": {
           "xaxis": {
            "backgroundcolor": "#E5ECF6",
            "gridcolor": "white",
            "gridwidth": 2,
            "linecolor": "white",
            "showbackground": true,
            "ticks": "",
            "zerolinecolor": "white"
           },
           "yaxis": {
            "backgroundcolor": "#E5ECF6",
            "gridcolor": "white",
            "gridwidth": 2,
            "linecolor": "white",
            "showbackground": true,
            "ticks": "",
            "zerolinecolor": "white"
           },
           "zaxis": {
            "backgroundcolor": "#E5ECF6",
            "gridcolor": "white",
            "gridwidth": 2,
            "linecolor": "white",
            "showbackground": true,
            "ticks": "",
            "zerolinecolor": "white"
           }
          },
          "shapedefaults": {
           "line": {
            "color": "#2a3f5f"
           }
          },
          "ternary": {
           "aaxis": {
            "gridcolor": "white",
            "linecolor": "white",
            "ticks": ""
           },
           "baxis": {
            "gridcolor": "white",
            "linecolor": "white",
            "ticks": ""
           },
           "bgcolor": "#E5ECF6",
           "caxis": {
            "gridcolor": "white",
            "linecolor": "white",
            "ticks": ""
           }
          },
          "title": {
           "x": 0.05
          },
          "xaxis": {
           "automargin": true,
           "gridcolor": "white",
           "linecolor": "white",
           "ticks": "",
           "title": {
            "standoff": 15
           },
           "zerolinecolor": "white",
           "zerolinewidth": 2
          },
          "yaxis": {
           "automargin": true,
           "gridcolor": "white",
           "linecolor": "white",
           "ticks": "",
           "title": {
            "standoff": 15
           },
           "zerolinecolor": "white",
           "zerolinewidth": 2
          }
         }
        }
       }
      }
     },
     "metadata": {},
     "output_type": "display_data"
    }
   ],
   "source": [
    "fig = px.scatter_mapbox(df,\n",
    "                    lat=df.megurim_lat,\n",
    "                    lon=df.megurim_lng,\n",
    "                    color=\"cluster\",\n",
    "                    hover_name=\"rashut\")\n",
    "\n",
    "fig.update_layout(mapbox_style=\"carto-positron\")\n",
    "fig.update_layout(margin={\"r\":0,\"t\":0,\"l\":0,\"b\":0})\n",
    "fig.show()"
   ]
  },
  {
   "cell_type": "code",
   "execution_count": 86,
   "metadata": {},
   "outputs": [],
   "source": [
    "fig.write_html(\"6_clusters.html\")"
   ]
  }
 ],
 "metadata": {
  "kernelspec": {
   "display_name": "Python 3.8.8 ('base')",
   "language": "python",
   "name": "python3"
  },
  "language_info": {
   "codemirror_mode": {
    "name": "ipython",
    "version": 3
   },
   "file_extension": ".py",
   "mimetype": "text/x-python",
   "name": "python",
   "nbconvert_exporter": "python",
   "pygments_lexer": "ipython3",
   "version": "3.8.8"
  },
  "orig_nbformat": 4,
  "vscode": {
   "interpreter": {
    "hash": "21285703334ff9ad0485a20549414d39509d302abdef938bdec846b879f92609"
   }
  }
 },
 "nbformat": 4,
 "nbformat_minor": 2
}
